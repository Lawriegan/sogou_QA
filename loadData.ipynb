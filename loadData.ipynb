{
 "cells": [
  {
   "cell_type": "code",
   "execution_count": 1,
   "metadata": {
    "collapsed": true
   },
   "outputs": [],
   "source": [
    "import pandas as pd \n",
    "\n",
    "PATH = '/Users/ligen/PycharmProjects/Competition/Sogou/'"
   ]
  },
  {
   "cell_type": "code",
   "execution_count": 2,
   "metadata": {
    "collapsed": true
   },
   "outputs": [
    {
     "name": "stdout",
     "output_type": "stream",
     "text": [
      "0                   林海音\n1       巴西 俄罗斯 印度 中国 南非\n2                  战国时期\n3                     米\n4                   未婚妻\n5                 罗温艾金森\n6                  汗马功劳\n7                   圆明园\n8                 二十四小时\n9                    巴西\n10                 一五一十\n11                  15年\n12                 恋恋不忘\n13                  延安市\n14                   香港\n15                  雨花区\n16                   保定\n17                   托蒂\n18                  10年\n19               热带季风气候\n20                  太原市\n21                  四川省\n22                 二见一树\n23                  4根弦\n24                   日本\n25                  20篇\n26                    香\n27                  加内特\n28                   2年\n29                  8年级\n             ...       \n4970                 吕布\n4971                 聂耳\n4972               过眼云烟\n4973                 菊花\n4974                 2格\n4975                 济宁\n4976                河南省\n4977                 严宽\n4978                 白色\n4979                86级\n4980                青阳县\n4981                19位\n4982               400米\n4983                山东省\n4984                 格力\n4985                普陀区\n4986                浙江省\n4987                 3号\n4988                江苏省\n4989               8项权利\n4990                 福建\n4991               血口喷人\n4992               废寝忘食\n4993                宿迁市\n4994                卢瑟福\n4995                 温州\n4996                 西湖\n4997              春风入卷来\n4998                广东省\n4999                浙江省\nName: answer, Length: 5000, dtype: object\n"
     ]
    }
   ],
   "source": [
    "raw_data = pd.read_json(PATH + 'data/train_factoid_1.json', lines=True)\n",
    "print(raw_data['answer'])"
   ]
  },
  {
   "cell_type": "code",
   "execution_count": 11,
   "metadata": {},
   "outputs": [
    {
     "name": "stdout",
     "output_type": "stream",
     "text": [
      "5000\n"
     ]
    }
   ],
   "source": [
    "import os\n",
    "import pickle\n",
    "val_data_path = \"/Users/ligen/PycharmProjects/Competition/Sogou/tmp/val_data\"\n",
    "if os.path.exists(val_data_path):\n",
    "    with open(val_data_path, \"rb\") as f:\n",
    "        val_data_dict = pickle.load(f)\n",
    "print(len(val_data_dict['val_knowledges']))"
   ]
  },
  {
   "cell_type": "code",
   "execution_count": 65,
   "metadata": {},
   "outputs": [
    {
     "data": {
      "text/plain": [
       "[{'passage_id': 1,\n  'passage_text': '太原市',\n  'url': 'http://wenwen.sogou.com/z/q661383487.htm'},\n {'passage_id': 2,\n  'passage_text': '太原市',\n  'url': 'http://zhidao.baidu.com/question/183755118'},\n {'passage_id': 3,\n  'passage_text': '清徐属于太原市',\n  'url': 'http://zhidao.baidu.com/question/183754114'},\n {'passage_id': 4,\n  'passage_text': '平泉村位于清徐县城西北部，离县城五华里，占地千余亩，全村人口１２００余人，４２０余户。主要产品为龙眼葡萄，并盛产各种果类产品。村里还有不少鱼塘，有罗非鱼、鲤鱼、草鱼等各种鱼类。．．．',\n  'url': 'http://baike.baidu.com/view/2546634.htm'},\n {'passage_id': 5,\n  'passage_text': '清徐属于哪个市招办呢．．ＲＴ我报的大同，你呢？\\u3000０\\u3000使用连续签到卡\\u3000清徐吧\\u3000看贴\\u3000图片\\u3000精品\\u3000视频\\u3000游戏\\u3000＜＜返回清徐吧\\u3000只看楼主\\u3000回复\\u3000最亮的启明星\\u3000江湖少侠\\u3000６\\u3000幸福流浪人\\u3000名震江湖\\u3000１３\\u3000太有才啦很有用\\u3000初涉江湖\\u3000．．．',\n  'url': 'http://tieba.baidu.com/f?kz=1150314924'},\n {'passage_id': 6,\n  'passage_text': '是的清徐，阳曲，古交，娄烦都是属于太原管辖的县！！',\n  'url': 'https://zhidao.baidu.com/question/50980540'},\n {'passage_id': 7,\n  'passage_text': '清徐属于哪个市招办呢．．ＲＴ我报的大同，你呢？\\u3000０\\u3000使用连续签到卡\\u3000清徐吧\\u3000看贴\\u3000图片\\u3000精品\\u3000视频\\u3000游戏\\u3000＜＜返回清徐吧\\u3000只看楼主\\u3000回复\\u3000最亮的启明星\\u3000江湖少侠\\u3000６\\u3000幸福流浪人\\u3000名震江湖\\u3000１３\\u3000太有才啦很有用\\u3000初涉江湖\\u3000．．．',\n  'url': 'http://tieba.baidu.com/p/1150314924'},\n {'passage_id': 8,\n  'passage_text': '清徐属于哪个市招办呢．．ＲＴ我报的大同，你呢？\\u3000０\\u3000使用连续签到卡\\u3000清徐吧\\u3000看贴\\u3000图片\\u3000精品\\u3000视频\\u3000游戏\\u3000＜＜返回清徐吧\\u3000只看楼主\\u3000回复\\u3000最亮的启明星\\u3000江湖少侠\\u3000６\\u3000幸福流浪人\\u3000名震江湖\\u3000１３\\u3000太有才啦很有用\\u3000初涉江湖\\u3000１\\u3000最亮的启明星\\u3000江湖少侠\\u3000６\\u3000清徐吧管理\\u3000小吧主\\u3000１４\\u3000幸福流浪人\\u3000名震江湖\\u3000１３\\u3000幸福流浪人\\u3000名震江湖\\u3000１３\\u3000蓝钻\\u3000ｔ豆娱乐城\\u3000斗地主\\u3000食神争霸\\u3000添加应用\\u3000应用中心\\u3000应用礼包\\u3000贴吧页面意见反馈\\u3000＜＜返回清徐吧',\n  'url': 'http://tieba.baidu.com/f?kz=1150314924'},\n {'passage_id': 9,\n  'passage_text': '清徐属于哪个市招办呢．．ＲＴ我报的大同，你呢？\\u3000０\\u3000使用连续签到卡\\u3000清徐吧\\u3000看贴\\u3000图片\\u3000精品\\u3000视频\\u3000游戏\\u3000＜＜返回清徐吧\\u3000只看楼主\\u3000回复\\u3000最亮的启明星\\u3000江湖少侠\\u3000６\\u3000幸福流浪人\\u3000名震江湖\\u3000１３\\u3000太有才啦很有用\\u3000初涉江湖\\u3000１\\u3000最亮的启明星\\u3000江湖少侠\\u3000６\\u3000清徐吧管理\\u3000小吧主\\u3000１４\\u3000幸福流浪人\\u3000名震江湖\\u3000１３\\u3000幸福流浪人\\u3000名震江湖\\u3000１３\\u3000蓝钻\\u3000ｔ豆娱乐城\\u3000斗地主\\u3000食神争霸\\u3000添加应用\\u3000应用中心\\u3000应用礼包\\u3000贴吧页面意见反馈\\u3000＜＜返回清徐吧',\n  'url': 'http://tieba.baidu.com/p/1150314924'},\n {'passage_id': 10,\n  'passage_text': '平泉村位于清徐县城西北部，离县城五华里，占地千余亩，全村人口１２００余人，４２０余户。主要产品为龙眼葡萄，并盛产各种果类产品。村里还有不少鱼塘，有罗非鱼、鲤鱼、草鱼等各种鱼类。．．．',\n  'url': 'http://baike.baidu.com/view/2546634.htm'}]"
      ]
     },
     "execution_count": 65,
     "metadata": {},
     "output_type": "execute_result"
    }
   ],
   "source": [
    "raw_data['passages'][20]"
   ]
  },
  {
   "cell_type": "code",
   "execution_count": 6,
   "metadata": {},
   "outputs": [
    {
     "data": {
      "text/plain": [
       "0                        《窃读记》的作者的作品\n1                            金钻五国哪五国\n2                        围魏救赵发生在哪个时期\n3                         八十八家家有它猜一字\n4                           小依是哪个电视剧\n5                             憨豆的扮演者\n6                           一马一汗什么成语\n7                           万国之园是什么园\n8                       微信红包没领取的多久退款\n9                          bra哪个国家缩写\n10                        国庆节劳动节打一成语\n11                     社保缴纳多少年可以领养老金\n12                          吴桐是哪部电视剧\n13                          吴起县属于哪个市\n14                       00852是哪里的电话\n15                         长沙高桥属于哪个区\n16                         定州市属于什么市?\n17                       罗马王子意大利球星是谁\n18                   注册商标局每次续展有效期多少年\n19                            越南气候类型\n20                          清徐县属于哪个市\n21                            乐山是哪个省\n22                       铁甲小宝的男主角叫什么\n23                         现代小提琴有几根弦\n24                           本田那个国家的\n25                           论语共有多少篇\n26      千字头 木字腰 太阳出来从下照 人人都说味道好 是什么字\n27               被选为2003年nbamvp的选手是谁\n28                     教师资格证考试成绩保留几年\n29                          湖心亭看雪几年级\n                    ...             \n4970                          董卓被谁杀死\n4971                          国歌是谁作曲\n4972                           过什么云烟\n4973                        花中隐士是什么花\n4974                    写作文时,破折号占几格?\n4975                       邹城属于山东哪个市\n4976                        偃师属于哪个省份\n4977                      新版水浒传燕青扮演者\n4978                     碳酸钙是什么颜色的固体\n4979                        魔界深渊多少级开\n4980                      安徽的九华山在哪个县\n4981                     邮政储蓄银行卡号多少位\n4982                      标准田径场一圈多少米\n4983                    手机区号0531是哪个省\n4984             gree什么牌子的空调手机版空调遥控器\n4985                       上海市梅川路什么区\n4986                       中国嘉兴是哪个省的\n4987                         杜兰特打几号位\n4988                        苏州园林在哪个省\n4989                    党章规定党员享有几项权利\n4990                          泉州是哪个省\n4991                    孕妇生娃娃一个成语是什么\n4992                      忘了吃忘了睡换成成语\n4993                         泗洪是哪个市的\n4994                       查德威克是谁的学生\n4995                    0577是哪个城市的区号\n4996                      钱塘湖春行的钱塘湖是\n4997                        山水有相逢下一句\n4998                        番禺区属于哪个省\n4999                         诸暨是哪个省的\nName: query, Length: 5000, dtype: object"
      ]
     },
     "execution_count": 6,
     "metadata": {},
     "output_type": "execute_result"
    }
   ],
   "source": [
    "raw_data['query']"
   ]
  },
  {
   "cell_type": "code",
   "execution_count": 68,
   "metadata": {},
   "outputs": [],
   "source": [
    "import sys\n",
    "sys.path.append('/Users/ligen/PycharmProjects/Competition/Sogou/')\n",
    "import data_util\n",
    "\n",
    "embedding, word2idx = data_util.load_embedding(PATH + \\\n",
    "                                        'data/zhwiki_2017_03.sg_50d.word2vec')"
   ]
  },
  {
   "cell_type": "code",
   "execution_count": 69,
   "metadata": {},
   "outputs": [
    {
     "data": {
      "text/plain": [
       "91777"
      ]
     },
     "execution_count": 69,
     "metadata": {},
     "output_type": "execute_result"
    }
   ],
   "source": [
    "word2idx['林海音']"
   ]
  },
  {
   "cell_type": "code",
   "execution_count": 67,
   "metadata": {},
   "outputs": [],
   "source": [
    "raw_data['answer']"
   ]
  },
  {
   "cell_type": "code",
   "execution_count": 67,
   "metadata": {},
   "outputs": [],
   "source": [
    ""
   ]
  },
  {
   "cell_type": "code",
   "execution_count": 53,
   "metadata": {},
   "outputs": [],
   "source": [
    "def strQ2B(ustring):\n",
    "    \"\"\"全角转半角\"\"\"\n",
    "    rstring = \"\"\n",
    "    for uchar in ustring:\n",
    "        inside_code = ord(uchar)\n",
    "        if inside_code == 12288:  # 全角空格直接转换\n",
    "            inside_code = 32\n",
    "        elif (inside_code >= 65281 and inside_code <= 65374):  # 全角字符（除空格）根据关系转化\n",
    "            inside_code -= 65248\n",
    "        rstring += chr(inside_code)\n",
    "    return rstring\n",
    "\n"
   ]
  },
  {
   "cell_type": "code",
   "execution_count": 61,
   "metadata": {
    "collapsed": false
   },
   "outputs": [
    {
     "data": {
      "text/plain": [
       "'西班牙(英语:The Kingdom of Spain,西班牙语:Reino de España)是一个位于欧洲西南部的君主立宪制国家,西邻同处于伊比利亚半岛的葡萄牙,北濒比斯开湾,东北部与法国及安道尔接壤,南隔直...'"
      ]
     },
     "execution_count": 61,
     "metadata": {},
     "output_type": "execute_result"
    }
   ],
   "source": [
    "import re\n",
    "s = raw_data['passages'][190][0]['passage_text']\n",
    "#s.replace(u'　', u' ')\n",
    "#s.replace(u'\\u3000', ' ')\n",
    "#s = re.sub(u'[\\u3000,\\xa0]',u' ',s) \n",
    "\n",
    "t = strQ2B(s)\n",
    "t"
   ]
  },
  {
   "cell_type": "code",
   "execution_count": 62,
   "metadata": {
    "collapsed": false
   },
   "outputs": [
    {
     "name": "stdout",
     "output_type": "stream",
     "text": [
      "西班牙 ( 英语 : The Kingdom of Spain , 西班牙语 : Reino de España ) 是 一个 位于 欧洲 西南部 的 君主立宪制 国 家 , 西邻 同 处于 伊比利亚半岛 的 葡萄牙 , 北 濒比斯 开湾 , 东北部 与 法国 及 安道尔 接壤 , 南 隔 直 ...\n西班牙 ( 英语 : The   Kingdom   of   Spain , 西班牙语 : Reino   de   Espa ñ a ) 是 一个 位于 欧洲 西南部 的 君主立宪制 国家 , 西邻 同 处于 伊比利亚 半岛 的 葡萄牙 , 北濒 比斯开湾 , 东北部 与 法国 及 安道尔 接壤 , 南 隔直 ... "
     ]
    }
   ],
   "source": [
    "import re\n",
    "#s = raw_data['passages'][190][0]['passage_text']\n",
    "s3 = tl.cut(t,text=True)\n",
    "s4 = jieba.posseg.cut(t, \\\n",
    "                       HMM=True)\n",
    "print(s3)\n",
    "for i ,_ in s4:\n",
    "        print(i, end=' ')"
   ]
  },
  {
   "cell_type": "code",
   "execution_count": null,
   "metadata": {},
   "outputs": [],
   "source": [
    "\n"
   ]
  }
 ],
 "metadata": {
  "kernelspec": {
   "display_name": "Python 2",
   "language": "python",
   "name": "python2"
  },
  "language_info": {
   "codemirror_mode": {
    "name": "ipython",
    "version": 2
   },
   "file_extension": ".py",
   "mimetype": "text/x-python",
   "name": "python",
   "nbconvert_exporter": "python",
   "pygments_lexer": "ipython2",
   "version": "2.7.6"
  }
 },
 "nbformat": 4,
 "nbformat_minor": 0
}
